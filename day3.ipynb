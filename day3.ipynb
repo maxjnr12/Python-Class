{
 "cells": [
  {
   "cell_type": "markdown",
   "id": "a535456b",
   "metadata": {},
   "source": [
    "# TUPLE\n",
    "### TUPLE IS UNCHANGEABLE\n",
    "### TUPLE IS DENOTED ()\n",
    "### TO ACCESS VALUE FROM A TUPLE WE USE THE INDEX LOCATION\n",
    "### NOTE::: ANY OF THE ITERABLE OBJECT IS NOT LIMITED TO ONE DATA TYPE"
   ]
  },
  {
   "cell_type": "code",
   "execution_count": 1,
   "id": "f4aafc69",
   "metadata": {},
   "outputs": [
    {
     "name": "stdout",
     "output_type": "stream",
     "text": [
      "16\n"
     ]
    }
   ],
   "source": [
    "numbers = (45,87,96,85,93,90,70,71,72,85,45,46,49,42,40,89)\n",
    "print(len(numbers))"
   ]
  },
  {
   "cell_type": "code",
   "execution_count": 2,
   "id": "71bd375c",
   "metadata": {},
   "outputs": [
    {
     "name": "stdout",
     "output_type": "stream",
     "text": [
      "<class 'tuple'>\n"
     ]
    }
   ],
   "source": [
    "print(type(numbers))"
   ]
  },
  {
   "cell_type": "code",
   "execution_count": 3,
   "id": "683ae99b",
   "metadata": {},
   "outputs": [
    {
     "name": "stdout",
     "output_type": "stream",
     "text": [
      "72\n"
     ]
    }
   ],
   "source": [
    "print(numbers[8])# retriving  a value from our tuple using the forward index location"
   ]
  },
  {
   "cell_type": "code",
   "execution_count": 4,
   "id": "de939975",
   "metadata": {},
   "outputs": [
    {
     "name": "stdout",
     "output_type": "stream",
     "text": [
      "85\n"
     ]
    }
   ],
   "source": [
    "print(numbers[-7])# retriving  a value from our tuple using the backward index location"
   ]
  },
  {
   "cell_type": "code",
   "execution_count": 5,
   "id": "ae9f3bca",
   "metadata": {},
   "outputs": [
    {
     "name": "stdout",
     "output_type": "stream",
     "text": [
      "False\n"
     ]
    }
   ],
   "source": [
    "print(100 in numbers)# using the membership operator to check if a value exist in our tuple"
   ]
  },
  {
   "cell_type": "code",
   "execution_count": 6,
   "id": "3ab9dea1",
   "metadata": {},
   "outputs": [
    {
     "name": "stdout",
     "output_type": "stream",
     "text": [
      "2\n"
     ]
    }
   ],
   "source": [
    "print(numbers.count(85))# we use the count function to retrive the frequency of a value"
   ]
  },
  {
   "cell_type": "code",
   "execution_count": 7,
   "id": "76c1eb7d",
   "metadata": {},
   "outputs": [
    {
     "name": "stdout",
     "output_type": "stream",
     "text": [
      "0\n"
     ]
    }
   ],
   "source": [
    "print(numbers.index(45))# we use the index function to retrive the location of a value"
   ]
  },
  {
   "cell_type": "code",
   "execution_count": 8,
   "id": "57c20ed1",
   "metadata": {},
   "outputs": [
    {
     "name": "stdout",
     "output_type": "stream",
     "text": [
      "(93, 90, 70, 71, 72, 85)\n"
     ]
    }
   ],
   "source": [
    "print(numbers[4:10])# retriving range of value from a starting location to stoping location"
   ]
  },
  {
   "cell_type": "code",
   "execution_count": 9,
   "id": "fe7d3e93",
   "metadata": {},
   "outputs": [
    {
     "name": "stdout",
     "output_type": "stream",
     "text": [
      "(89, 40, 42, 49, 46, 45, 85, 72, 71, 70, 90, 93, 85, 96, 87, 45)\n"
     ]
    }
   ],
   "source": [
    "print(numbers[::-1])# reversing the values in our tuple"
   ]
  },
  {
   "cell_type": "markdown",
   "id": "a8202c80",
   "metadata": {},
   "source": [
    "# LIST\n",
    "### LIST IS CHANGEABLE\n",
    "### LIST IS DENOTED {}\n",
    "### TO ACCESS VALUE FROM A LIST WE USE THE INDEX LOCATION\n",
    "### NOTE::: ANY OF THE ITERABLE OBJECT IS NOT LIMITED TO ONE DATA TYPE"
   ]
  },
  {
   "cell_type": "code",
   "execution_count": 11,
   "id": "3b15b9fe",
   "metadata": {},
   "outputs": [],
   "source": [
    "items = ['plate ,' 'cup ,' 'pen  ,' 'lemon ,' 'cherry']"
   ]
  },
  {
   "cell_type": "code",
   "execution_count": 13,
   "id": "f45735bb",
   "metadata": {},
   "outputs": [
    {
     "name": "stdout",
     "output_type": "stream",
     "text": [
      "['plate ,cup ,pen  ,lemon ,cherry', 'pear', 'pear']\n"
     ]
    }
   ],
   "source": [
    "items.append( 'pear') # adding a new value to the end of the existing list\n",
    "print(items)"
   ]
  },
  {
   "cell_type": "code",
   "execution_count": 14,
   "id": "c01e7c39",
   "metadata": {},
   "outputs": [
    {
     "name": "stdout",
     "output_type": "stream",
     "text": [
      "['plate ,cup ,pen  ,lemon ,cherry', 'pear', 'pear', 'pencil']\n"
     ]
    }
   ],
   "source": [
    "items.insert(5,'pencil')# adding a new value to a specified location in the list\n",
    "print (items)"
   ]
  },
  {
   "cell_type": "code",
   "execution_count": 15,
   "id": "57423931",
   "metadata": {},
   "outputs": [
    {
     "name": "stdout",
     "output_type": "stream",
     "text": [
      "['plate ,cup ,pen  ,lemon ,cherry', 'pear', 'pear', 'pencil', 'banana', 'Grape', 'Lemon', 'Apple']\n"
     ]
    }
   ],
   "source": [
    "f = [ 'banana', 'Grape' , 'Lemon', 'Apple']\n",
    "items.extend(f)# adding a new value from another list or turple to the existing list\n",
    "print (items)"
   ]
  },
  {
   "cell_type": "code",
   "execution_count": 16,
   "id": "ebaa02fe",
   "metadata": {},
   "outputs": [
    {
     "name": "stdout",
     "output_type": "stream",
     "text": [
      "['plate ,cup ,pen  ,lemon ,cherry', 'pear', 'pear', 'pencil', 'banana', 'Lemon', 'Apple']\n"
     ]
    }
   ],
   "source": [
    "items.pop(5)#droping of a value using its index location\n",
    "print(items)"
   ]
  },
  {
   "cell_type": "code",
   "execution_count": 17,
   "id": "73afc959",
   "metadata": {},
   "outputs": [
    {
     "name": "stdout",
     "output_type": "stream",
     "text": [
      "['plate ,cup ,pen  ,lemon ,cherry', 'pear', 'pencil', 'banana', 'Lemon', 'Apple']\n"
     ]
    }
   ],
   "source": [
    "items.remove('pear')#dropping of a value by specifing the value itself\n",
    "print(items)"
   ]
  },
  {
   "cell_type": "code",
   "execution_count": 18,
   "id": "f2687258",
   "metadata": {},
   "outputs": [
    {
     "name": "stdout",
     "output_type": "stream",
     "text": [
      "['Apple', 'Lemon', 'banana', 'pear', 'pencil', 'plate ,cup ,pen  ,lemon ,cherry']\n"
     ]
    }
   ],
   "source": [
    "items.sort()#sort will arrange the value in ascending order\n",
    "print(items)"
   ]
  },
  {
   "cell_type": "code",
   "execution_count": 19,
   "id": "da02876e",
   "metadata": {},
   "outputs": [
    {
     "name": "stdout",
     "output_type": "stream",
     "text": [
      "['plate ,cup ,pen  ,lemon ,cherry', 'pencil', 'pear', 'banana', 'Lemon', 'Apple']\n"
     ]
    }
   ],
   "source": [
    "items.sort(reverse=True)#sort with reverse will arrange the value in descending order\n",
    "print(items)"
   ]
  },
  {
   "cell_type": "code",
   "execution_count": 20,
   "id": "a9230a5e",
   "metadata": {},
   "outputs": [
    {
     "name": "stdout",
     "output_type": "stream",
     "text": [
      "['plate ,cup ,pen  ,lemon ,cherry', 'pencil', 'pear', 'banana', 'Lemon', 'Apple']\n"
     ]
    }
   ],
   "source": [
    "items_copy = items.copy()\n",
    "print(items_copy)"
   ]
  },
  {
   "cell_type": "code",
   "execution_count": 21,
   "id": "fa412305",
   "metadata": {},
   "outputs": [
    {
     "name": "stdout",
     "output_type": "stream",
     "text": [
      "[]\n"
     ]
    }
   ],
   "source": [
    "items_copy.clear()\n",
    "print(items_copy)"
   ]
  },
  {
   "cell_type": "code",
   "execution_count": 22,
   "id": "d2e91698",
   "metadata": {},
   "outputs": [
    {
     "ename": "NameError",
     "evalue": "name 'items_copy' is not defined",
     "output_type": "error",
     "traceback": [
      "\u001b[1;31m---------------------------------------------------------------------------\u001b[0m",
      "\u001b[1;31mNameError\u001b[0m                                 Traceback (most recent call last)",
      "Input \u001b[1;32mIn [22]\u001b[0m, in \u001b[0;36m<cell line: 2>\u001b[1;34m()\u001b[0m\n\u001b[0;32m      1\u001b[0m \u001b[38;5;28;01mdel\u001b[39;00m(items_copy)\n\u001b[1;32m----> 2\u001b[0m \u001b[38;5;28mprint\u001b[39m(\u001b[43mitems_copy\u001b[49m)\n",
      "\u001b[1;31mNameError\u001b[0m: name 'items_copy' is not defined"
     ]
    }
   ],
   "source": [
    "del(items_copy)\n",
    "print(items_copy)"
   ]
  },
  {
   "cell_type": "code",
   "execution_count": 23,
   "id": "361c6f50",
   "metadata": {},
   "outputs": [
    {
     "ename": "SyntaxError",
     "evalue": "invalid syntax (2154365706.py, line 2)",
     "output_type": "error",
     "traceback": [
      "\u001b[1;36m  Input \u001b[1;32mIn [23]\u001b[1;36m\u001b[0m\n\u001b[1;33m    DICTIONARY IS CHANGEABLE\u001b[0m\n\u001b[1;37m               ^\u001b[0m\n\u001b[1;31mSyntaxError\u001b[0m\u001b[1;31m:\u001b[0m invalid syntax\n"
     ]
    }
   ],
   "source": [
    "DICTIONARY\n",
    "DICTIONARY IS CHANGEABLE\n",
    "DICTIONARY IS DENOTED {}\n",
    "TO ACCESS VALUE FROM A LIST WE USE THE INDEX LOCATION¶\n",
    "NOTE::: ANY OF THE ITERABLE OBJECT IS NOT LIMITED TO ONE DATA TYPE"
   ]
  },
  {
   "cell_type": "markdown",
   "id": "f472f99e",
   "metadata": {},
   "source": []
  },
  {
   "cell_type": "code",
   "execution_count": 24,
   "id": "b9e7397a",
   "metadata": {},
   "outputs": [
    {
     "ename": "SyntaxError",
     "evalue": "invalid syntax (2154365706.py, line 2)",
     "output_type": "error",
     "traceback": [
      "\u001b[1;36m  Input \u001b[1;32mIn [24]\u001b[1;36m\u001b[0m\n\u001b[1;33m    DICTIONARY IS CHANGEABLE\u001b[0m\n\u001b[1;37m               ^\u001b[0m\n\u001b[1;31mSyntaxError\u001b[0m\u001b[1;31m:\u001b[0m invalid syntax\n"
     ]
    }
   ],
   "source": [
    "DICTIONARY\n",
    "DICTIONARY IS CHANGEABLE\n",
    "DICTIONARY IS DENOTED {}\n",
    "TO ACCESS VALUE FROM A LIST WE USE THE INDEX LOCATION¶\n",
    "NOTE::: ANY OF THE ITERABLE OBJECT IS NOT LIMITED TO ONE DATA TYPE"
   ]
  },
  {
   "cell_type": "code",
   "execution_count": 27,
   "id": "fffb735a",
   "metadata": {},
   "outputs": [
    {
     "name": "stdout",
     "output_type": "stream",
     "text": [
      "Job Ford\n"
     ]
    }
   ],
   "source": [
    "records = {\n",
    "    'Name': 'Job Ford',\n",
    "    'Gender': 'Male' ,\n",
    "    'Age ': 58\n",
    "}\n",
    "print(records[\"Name\"])"
   ]
  },
  {
   "cell_type": "code",
   "execution_count": 28,
   "id": "99a9809e",
   "metadata": {},
   "outputs": [
    {
     "name": "stdout",
     "output_type": "stream",
     "text": [
      "dict_keys(['Name', 'Gender', 'Age '])\n"
     ]
    }
   ],
   "source": [
    "print(records.keys())"
   ]
  },
  {
   "cell_type": "code",
   "execution_count": 29,
   "id": "36661f25",
   "metadata": {},
   "outputs": [
    {
     "name": "stdout",
     "output_type": "stream",
     "text": [
      "dict_values(['Job Ford', 'Male', 58])\n"
     ]
    }
   ],
   "source": [
    "print(records.values())"
   ]
  },
  {
   "cell_type": "code",
   "execution_count": 30,
   "id": "fa620a33",
   "metadata": {},
   "outputs": [
    {
     "name": "stdout",
     "output_type": "stream",
     "text": [
      "Male\n"
     ]
    }
   ],
   "source": [
    "print(records.get('Gender'))"
   ]
  },
  {
   "cell_type": "code",
   "execution_count": 31,
   "id": "fc86425e",
   "metadata": {},
   "outputs": [
    {
     "name": "stdout",
     "output_type": "stream",
     "text": [
      "{'Name': 'Job Ford', 'Gender': 'Male', 'Age ': 58, 'Height': 1.9}\n"
     ]
    }
   ],
   "source": [
    "records['Height'] = 1.90\n",
    "print(records)"
   ]
  },
  {
   "cell_type": "code",
   "execution_count": 34,
   "id": "c16561c7",
   "metadata": {},
   "outputs": [
    {
     "name": "stdout",
     "output_type": "stream",
     "text": [
      "{'Name': 'Job Ford', 'Gender': 'Male', 'Age ': 58, 'Height': 1.9, 'Age': 60}\n"
     ]
    }
   ],
   "source": [
    "r = {'Age':60}\n",
    "records.update(r)\n",
    "print(records)"
   ]
  },
  {
   "cell_type": "code",
   "execution_count": 35,
   "id": "7ee3a07d",
   "metadata": {},
   "outputs": [
    {
     "name": "stdout",
     "output_type": "stream",
     "text": [
      "{'Name': 'Job Ford', 'Gender': 'Male', 'Age ': 58, 'Height': 1.9}\n"
     ]
    }
   ],
   "source": [
    "records.pop('Age')\n",
    "print(records)"
   ]
  },
  {
   "cell_type": "code",
   "execution_count": 36,
   "id": "5731c9ac",
   "metadata": {},
   "outputs": [
    {
     "name": "stdout",
     "output_type": "stream",
     "text": [
      "{'Name': 'Job Ford', 'Gender': 'Male', 'Age ': 58}\n"
     ]
    }
   ],
   "source": [
    "records.popitem()\n",
    "print(records)"
   ]
  },
  {
   "cell_type": "code",
   "execution_count": 39,
   "id": "85e88e56",
   "metadata": {},
   "outputs": [
    {
     "ename": "SyntaxError",
     "evalue": "invalid syntax (97505016.py, line 4)",
     "output_type": "error",
     "traceback": [
      "\u001b[1;36m  Input \u001b[1;32mIn [39]\u001b[1;36m\u001b[0m\n\u001b[1;33m    '003':['Bade Pouch', 'Male', 15, 'Jss2A']\u001b[0m\n\u001b[1;37m    ^\u001b[0m\n\u001b[1;31mSyntaxError\u001b[0m\u001b[1;31m:\u001b[0m invalid syntax\n"
     ]
    }
   ],
   "source": [
    "student_records = {\n",
    "    '001':['Ade Bando', 'Male',14,'Jss2A'],\n",
    "    '002':['Mary Bade', 'Female',14,'Jss2B']\n",
    "    '003':['Bade Pouch', 'Male', 15, 'Jss2A']\n",
    "}\n",
    "student_records['002']"
   ]
  },
  {
   "cell_type": "code",
   "execution_count": 40,
   "id": "e2372639",
   "metadata": {},
   "outputs": [
    {
     "ename": "NameError",
     "evalue": "name 'student_records' is not defined",
     "output_type": "error",
     "traceback": [
      "\u001b[1;31m---------------------------------------------------------------------------\u001b[0m",
      "\u001b[1;31mNameError\u001b[0m                                 Traceback (most recent call last)",
      "Input \u001b[1;32mIn [40]\u001b[0m, in \u001b[0;36m<cell line: 1>\u001b[1;34m()\u001b[0m\n\u001b[1;32m----> 1\u001b[0m \u001b[38;5;28mprint\u001b[39m(\u001b[43mstudent_records\u001b[49m[\u001b[38;5;124m'\u001b[39m\u001b[38;5;124m002\u001b[39m\u001b[38;5;124m'\u001b[39m][\u001b[38;5;241m2\u001b[39m])\n",
      "\u001b[1;31mNameError\u001b[0m: name 'student_records' is not defined"
     ]
    }
   ],
   "source": [
    "print(student_records['002'][2])"
   ]
  },
  {
   "cell_type": "code",
   "execution_count": null,
   "id": "df5c1a2e",
   "metadata": {},
   "outputs": [],
   "source": []
  }
 ],
 "metadata": {
  "kernelspec": {
   "display_name": "Python 3 (ipykernel)",
   "language": "python",
   "name": "python3"
  },
  "language_info": {
   "codemirror_mode": {
    "name": "ipython",
    "version": 3
   },
   "file_extension": ".py",
   "mimetype": "text/x-python",
   "name": "python",
   "nbconvert_exporter": "python",
   "pygments_lexer": "ipython3",
   "version": "3.9.12"
  }
 },
 "nbformat": 4,
 "nbformat_minor": 5
}
