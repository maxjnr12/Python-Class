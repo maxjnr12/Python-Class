{
 "cells": [
  {
   "cell_type": "markdown",
   "id": "47d289e2",
   "metadata": {},
   "source": [
    "CLASS AND OBJECT"
   ]
  },
  {
   "cell_type": "code",
   "execution_count": 1,
   "id": "610bab05",
   "metadata": {},
   "outputs": [],
   "source": [
    "class person:\n",
    "    attr1 = 'James'\n",
    "    attr2 = 'Male'\n",
    "person1 = person()"
   ]
  },
  {
   "cell_type": "code",
   "execution_count": 2,
   "id": "725b9aaa",
   "metadata": {},
   "outputs": [
    {
     "data": {
      "text/plain": [
       "'James'"
      ]
     },
     "execution_count": 2,
     "metadata": {},
     "output_type": "execute_result"
    }
   ],
   "source": [
    "person1.attr1"
   ]
  },
  {
   "cell_type": "code",
   "execution_count": 4,
   "id": "ef95c24b",
   "metadata": {},
   "outputs": [],
   "source": [
    "class person:\n",
    "    attr1 = 'James'\n",
    "    attr2 = 'Male'\n",
    "    def details(self):\n",
    "        print(f'my name is {self.attr1}')\n",
    "person1 = person()"
   ]
  },
  {
   "cell_type": "code",
   "execution_count": 5,
   "id": "aa4813f9",
   "metadata": {},
   "outputs": [
    {
     "name": "stdout",
     "output_type": "stream",
     "text": [
      "my name is James\n"
     ]
    }
   ],
   "source": [
    "person1.details()"
   ]
  },
  {
   "cell_type": "markdown",
   "id": "ada0f043",
   "metadata": {},
   "source": [
    "USING CLASS AND OBJECT WRITE A PROGRAM TO DEPOSIT, TRANSFER, BUY AIRTIME, BUY DATA AND CHECK BALANCE"
   ]
  },
  {
   "cell_type": "code",
   "execution_count": 9,
   "id": "9a59386a",
   "metadata": {},
   "outputs": [
    {
     "name": "stdout",
     "output_type": "stream",
     "text": [
      "Enter your password:maxj104\n",
      "Enter yes to perform transactionyes\n",
      "choose your operation [deposit, transfer,airtime,data,checkbalance,logout]:deposit\n",
      "Enter Deposit Amount:100000\n",
      "Transaction successful.............\n",
      "choose your operation [deposit, transfer,airtime,data,checkbalance,logout]:data\n",
      "Enter data Amount:5000\n",
      "Enter destination Phone Number:09160033357\n",
      "Enter Network providerMTN\n",
      "Transaction successful.............\n",
      "choose your operation [deposit, transfer,airtime,data,checkbalance,logout]:checkbalance\n",
      "Available Balance is 95000.0\n",
      "choose your operation [deposit, transfer,airtime,data,checkbalance,logout]:logout\n",
      "loging Out............\n"
     ]
    }
   ],
   "source": [
    "class moniapp:\n",
    "    def __init__(self):\n",
    "        self.balance = 0\n",
    "    \n",
    "    def deposit(self):\n",
    "        amount = float(input('Enter Deposit Amount:'))\n",
    "        self.balance = self.balance + amount\n",
    "        print('Transaction successful.............')\n",
    "        \n",
    "        \n",
    "    def transfer(self):\n",
    "        amount = float(input('Enter Transfer Amount:'))\n",
    "        destination = input('Enter destination Account Number:')\n",
    "        bank = input('Enter Bank Name')\n",
    "        if amount > self.balance :\n",
    "            print('Insufficient funds')\n",
    "        elif amount == 0 :\n",
    "            print('Amount cannot be 0')\n",
    "            \n",
    "        else:\n",
    "            self.balance = self.balance - amount\n",
    "        print('Transaction successful.............')\n",
    "        \n",
    "        \n",
    "    def airtime(self):\n",
    "        amount = float(input('Enter airtime Amount:'))\n",
    "        destination = input('Enter destination Phone Number:')\n",
    "        provider = input('Enter Network provider')\n",
    "        if amount > self.balance :\n",
    "            print('Insufficient funds')\n",
    "        elif amount == 0 :\n",
    "            print('Amount cannot be 0')\n",
    "            \n",
    "        else:\n",
    "            self.balance = self.balance - amount\n",
    "        print('Transaction successful.............')\n",
    "        \n",
    "    \n",
    "    def data(self):\n",
    "        amount = float(input('Enter data Amount:'))\n",
    "        destination = input('Enter destination Phone Number:')\n",
    "        provider = input('Enter Network provider')\n",
    "        if amount > self.balance :\n",
    "            print('Insufficient funds')\n",
    "        elif amount == 0 :\n",
    "            print('Amount cannot be 0')\n",
    "            \n",
    "        else:\n",
    "            self.balance = self.balance - amount\n",
    "        print('Transaction successful.............')\n",
    "    \n",
    "    \n",
    "    def checkbalance(self):\n",
    "        print(f'Available Balance is {self.balance}')\n",
    "app = moniapp()\n",
    "passid = 'maxj104'\n",
    "password = input('Enter your password:')\n",
    "if password == passid:\n",
    "    counter = 0\n",
    "    operation = input('Enter yes to perform transaction')\n",
    "    while operation =='yes':\n",
    "        option = input('choose your operation [deposit, transfer,airtime,data,checkbalance,logout]:')\n",
    "        if option == 'deposit':\n",
    "            app.deposit()\n",
    "        elif option == 'transfer':\n",
    "            app.transfer()\n",
    "        elif option == 'airtime':\n",
    "            app.airtime()\n",
    "        elif option == 'data':\n",
    "            app.data()\n",
    "        elif option == 'checkbalance':\n",
    "            app.checkbalance()\n",
    "        elif option == 'logout':\n",
    "            print('loging Out............')\n",
    "            break\n",
    "else:\n",
    "    print('Invalid Password')\n",
    "            \n",
    "    \n",
    "    \n",
    "        \n",
    "        "
   ]
  },
  {
   "cell_type": "code",
   "execution_count": null,
   "id": "83da4314",
   "metadata": {},
   "outputs": [],
   "source": []
  }
 ],
 "metadata": {
  "kernelspec": {
   "display_name": "Python 3 (ipykernel)",
   "language": "python",
   "name": "python3"
  },
  "language_info": {
   "codemirror_mode": {
    "name": "ipython",
    "version": 3
   },
   "file_extension": ".py",
   "mimetype": "text/x-python",
   "name": "python",
   "nbconvert_exporter": "python",
   "pygments_lexer": "ipython3",
   "version": "3.9.12"
  }
 },
 "nbformat": 4,
 "nbformat_minor": 5
}
