{
 "cells": [
  {
   "cell_type": "markdown",
   "id": "204b583c",
   "metadata": {},
   "source": [
    "CONDITIONAL STATEMENT"
   ]
  },
  {
   "cell_type": "markdown",
   "id": "c5c97fae",
   "metadata": {},
   "source": [
    "#in a credit card rewards program how can a conditional statement be used to determine if a customer has spent a certain amount on qualifying purchases, and award them points or other rewards accordingly?"
   ]
  },
  {
   "cell_type": "code",
   "execution_count": 1,
   "id": "00d8474f",
   "metadata": {},
   "outputs": [
    {
     "name": "stdout",
     "output_type": "stream",
     "text": [
      "Enter customer purchase amount:1100.50\n",
      "you are awarded 10 points\n"
     ]
    }
   ],
   "source": [
    "purchaseamount = float(input('Enter customer purchase amount:'))\n",
    "if purchaseamount > 1000:\n",
    "    print('you are awarded 10 points')"
   ]
  },
  {
   "cell_type": "code",
   "execution_count": 7,
   "id": "486ce04b",
   "metadata": {},
   "outputs": [
    {
     "name": "stdout",
     "output_type": "stream",
     "text": [
      "Enter customer purchase amount700\n",
      "Purchase amount less than the reward program requirement\n"
     ]
    }
   ],
   "source": [
    "purchaseamount = float(input('Enter customer purchase amount'))\n",
    "if purchaseamount >1000:\n",
    "    print('you are awarded 10 point')\n",
    "else: \n",
    "    print('Purchase amount less than the reward program requirement')"
   ]
  },
  {
   "cell_type": "code",
   "execution_count": 10,
   "id": "7f17d526",
   "metadata": {},
   "outputs": [
    {
     "name": "stdout",
     "output_type": "stream",
     "text": [
      "Enter customer purchase amount:200000\n",
      "you are awarded a 20% discount\n"
     ]
    }
   ],
   "source": [
    "rewards =['10% discount', '20% discount', 'bag of rice', '10 Live Chicken', 'Goat Head']\n",
    "purchaseamount = float(input('Enter customer purchase amount:'))\n",
    "if purchaseamount > 50000 and purchaseamount <= 100000:\n",
    "    print(f'You are awarded a {rewards[0]}')\n",
    "else:\n",
    "    if purchaseamount >100000 and purchaseamount <=200000:\n",
    "        print(f'you are awarded a {rewards[1]}')\n",
    "    else:\n",
    "        if purchaseamount >200000 and purchaseamount <=400000:\n",
    "            print(f'you are awarded a {rewards[2]}')\n",
    "        else:\n",
    "            if purchaseamount >400000 and purchaseamount <=600000:\n",
    "                print(f'you are awarded a {rewards[3]}')\n",
    "            else:\n",
    "                if purchaseamount >600000:\n",
    "                    print(f'you are awarded a {rewards[-1]}')\n",
    "                else:\n",
    "                     print('purchase amount less than the reward program requirement')\n",
    "            \n",
    "            \n"
   ]
  },
  {
   "cell_type": "code",
   "execution_count": 11,
   "id": "a6bbc020",
   "metadata": {},
   "outputs": [
    {
     "name": "stdout",
     "output_type": "stream",
     "text": [
      "Enter customer purchase amount:450000\n",
      "you are awarded a 10 Live Chicken\n"
     ]
    }
   ],
   "source": [
    "import random as rn\n",
    "rewards =['10% discount', '20% discount', 'bag of rice', '10 Live Chicken', 'Goat Head']\n",
    "purchaseamount = float(input('Enter customer purchase amount:'))\n",
    "if purchaseamount > 50000 and purchaseamount <= 100000:\n",
    "    print(f'You are awarded a {rn.choice(rewards)}')\n",
    "elif purchaseamount >100000 and purchaseamount <=200000:\n",
    "      print(f'you are awarded a {rn.choice(rewards)}')\n",
    "elif purchaseamount >200000 and purchaseamount <=400000:\n",
    "      print(f'you are awarded a {rn.choice(rewards)}')\n",
    "elif purchaseamount >400000 and purchaseamount <=600000:\n",
    "    print(f'you are awarded a {rn.choice(rewards)}')\n",
    "elif purchaseamount >600000:\n",
    "    print(f'you are awarded a {rn.choice(rewards)}')\n",
    "else:\n",
    "    print('purchase amount less than the reward program requirement')\n",
    "            "
   ]
  },
  {
   "cell_type": "code",
   "execution_count": null,
   "id": "735c6dac",
   "metadata": {},
   "outputs": [],
   "source": [
    "condition = input('provide item condition')"
   ]
  }
 ],
 "metadata": {
  "kernelspec": {
   "display_name": "Python 3 (ipykernel)",
   "language": "python",
   "name": "python3"
  },
  "language_info": {
   "codemirror_mode": {
    "name": "ipython",
    "version": 3
   },
   "file_extension": ".py",
   "mimetype": "text/x-python",
   "name": "python",
   "nbconvert_exporter": "python",
   "pygments_lexer": "ipython3",
   "version": "3.9.12"
  }
 },
 "nbformat": 4,
 "nbformat_minor": 5
}
