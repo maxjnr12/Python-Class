{
 "cells": [
  {
   "cell_type": "markdown",
   "id": "15bbef86",
   "metadata": {},
   "source": [
    "DATETIME\n"
   ]
  },
  {
   "cell_type": "code",
   "execution_count": 1,
   "id": "e447eb56",
   "metadata": {},
   "outputs": [
    {
     "name": "stdout",
     "output_type": "stream",
     "text": [
      "['MAXYEAR', 'MINYEAR', '__all__', '__builtins__', '__cached__', '__doc__', '__file__', '__loader__', '__name__', '__package__', '__spec__', 'date', 'datetime', 'datetime_CAPI', 'sys', 'time', 'timedelta', 'timezone', 'tzinfo']\n"
     ]
    }
   ],
   "source": [
    "import datetime\n",
    "print(dir(datetime))"
   ]
  },
  {
   "cell_type": "code",
   "execution_count": 3,
   "id": "b094dd71",
   "metadata": {},
   "outputs": [
    {
     "name": "stdout",
     "output_type": "stream",
     "text": [
      "2021-01-25\n"
     ]
    }
   ],
   "source": [
    "date1 = datetime.date(2021,1,25)\n",
    "print(date1)"
   ]
  },
  {
   "cell_type": "code",
   "execution_count": 4,
   "id": "eb5feda8",
   "metadata": {},
   "outputs": [
    {
     "name": "stdout",
     "output_type": "stream",
     "text": [
      "<class 'datetime.date'>\n"
     ]
    }
   ],
   "source": [
    "print(type(date1))"
   ]
  },
  {
   "cell_type": "code",
   "execution_count": 5,
   "id": "ec2b1b15",
   "metadata": {},
   "outputs": [
    {
     "name": "stdout",
     "output_type": "stream",
     "text": [
      "2021\n",
      "1\n",
      "25\n",
      "0\n",
      "1\n"
     ]
    }
   ],
   "source": [
    "print(date1.year)\n",
    "print(date1.month)\n",
    "print(date1.day)\n",
    "print(date1.weekday())\n",
    "print(date1.isoweekday())"
   ]
  },
  {
   "cell_type": "code",
   "execution_count": 6,
   "id": "6424fefa",
   "metadata": {},
   "outputs": [
    {
     "name": "stdout",
     "output_type": "stream",
     "text": [
      "2023-05-01\n"
     ]
    }
   ],
   "source": [
    "currentdate = datetime.date.today()\n",
    "print(currentdate)"
   ]
  },
  {
   "cell_type": "code",
   "execution_count": 7,
   "id": "d65c812d",
   "metadata": {},
   "outputs": [
    {
     "data": {
      "text/plain": [
       "'01st of May, 2023'"
      ]
     },
     "execution_count": 7,
     "metadata": {},
     "output_type": "execute_result"
    }
   ],
   "source": [
    "# strftime: it is used for modification of date and time\n",
    "#A represent weekday in words(full)\n",
    "#a represent weekday in words(abb)\n",
    "#B represent the month in words(full)\n",
    "#b represent the month in words(abb)\n",
    "#d represent the day\n",
    "#m represent the month in figure\n",
    "#Y represent the year(4 digits)\n",
    "#y represent the year(2 digits) \n",
    "currentdate.strftime('%dst of %B, %Y')"
   ]
  },
  {
   "cell_type": "code",
   "execution_count": 8,
   "id": "34fa57d4",
   "metadata": {},
   "outputs": [
    {
     "name": "stdout",
     "output_type": "stream",
     "text": [
      "12:25:52.252369\n"
     ]
    }
   ],
   "source": [
    "time1 = datetime.time(12,25,52,252369)\n",
    "print(time1)"
   ]
  },
  {
   "cell_type": "code",
   "execution_count": 9,
   "id": "958db96c",
   "metadata": {},
   "outputs": [
    {
     "name": "stdout",
     "output_type": "stream",
     "text": [
      "12\n",
      "52\n",
      "25\n",
      "252369\n"
     ]
    }
   ],
   "source": [
    "print(time1.hour)\n",
    "print(time1.second)\n",
    "print(time1.minute)\n",
    "print(time1.microsecond)"
   ]
  },
  {
   "cell_type": "code",
   "execution_count": 10,
   "id": "55644b11",
   "metadata": {},
   "outputs": [
    {
     "name": "stdout",
     "output_type": "stream",
     "text": [
      "14:46:42.594796\n"
     ]
    }
   ],
   "source": [
    "currenttime = datetime.datetime.now().time()\n",
    "print(currenttime)"
   ]
  },
  {
   "cell_type": "code",
   "execution_count": 12,
   "id": "b9d6f25a",
   "metadata": {},
   "outputs": [
    {
     "data": {
      "text/plain": [
       "'02::46::42::PM'"
      ]
     },
     "execution_count": 12,
     "metadata": {},
     "output_type": "execute_result"
    }
   ],
   "source": [
    "currenttime.strftime('%I::%M::%S::%p')\n",
    "# H represent hour(24)\n",
    "# I represnt hour(12)\n",
    "# M represent minute\n",
    "# S represent second\n",
    "# f represent micro second\n",
    "# p represent either AM or PM"
   ]
  },
  {
   "cell_type": "code",
   "execution_count": 15,
   "id": "d90dbe7d",
   "metadata": {},
   "outputs": [
    {
     "name": "stdout",
     "output_type": "stream",
     "text": [
      "Enter your date in this format[d/m/y]02/05/2023\n",
      "2023-05-02\n"
     ]
    }
   ],
   "source": [
    "# strptime is used to convert a string to datetime format\n",
    "date2 = input('Enter your date in this format[d/m/y]')\n",
    "cdate = datetime.datetime.strptime(date2,'%d/%m/%Y').date()\n",
    "print(cdate)"
   ]
  },
  {
   "cell_type": "code",
   "execution_count": 16,
   "id": "ba852d0c",
   "metadata": {},
   "outputs": [
    {
     "data": {
      "text/plain": [
       "datetime.datetime(2023, 5, 1, 15, 5, 19, 607536)"
      ]
     },
     "execution_count": 16,
     "metadata": {},
     "output_type": "execute_result"
    }
   ],
   "source": [
    "currentdate_time = datetime.datetime.now()\n",
    "currentdate_time"
   ]
  },
  {
   "cell_type": "code",
   "execution_count": 17,
   "id": "fa584393",
   "metadata": {},
   "outputs": [
    {
     "data": {
      "text/plain": [
       "datetime.timedelta(days=826)"
      ]
     },
     "execution_count": 17,
     "metadata": {},
     "output_type": "execute_result"
    }
   ],
   "source": [
    "currentdate - date1"
   ]
  },
  {
   "cell_type": "code",
   "execution_count": 18,
   "id": "88510624",
   "metadata": {},
   "outputs": [
    {
     "data": {
      "text/plain": [
       "datetime.datetime(2023, 9, 28, 15, 5, 19, 607536)"
      ]
     },
     "execution_count": 18,
     "metadata": {},
     "output_type": "execute_result"
    }
   ],
   "source": [
    "currentdate_time + datetime.timedelta(days = 150)"
   ]
  },
  {
   "cell_type": "code",
   "execution_count": 19,
   "id": "4c61e3f4",
   "metadata": {},
   "outputs": [
    {
     "data": {
      "text/plain": [
       "datetime.datetime(2022, 12, 2, 15, 5, 19, 607536)"
      ]
     },
     "execution_count": 19,
     "metadata": {},
     "output_type": "execute_result"
    }
   ],
   "source": [
    "currentdate_time - datetime.timedelta(days = 150)"
   ]
  },
  {
   "cell_type": "code",
   "execution_count": 20,
   "id": "314bfefe",
   "metadata": {},
   "outputs": [
    {
     "name": "stdout",
     "output_type": "stream",
     "text": [
      "Enter your Guess:S\n",
      "Enter your Guess:D\n",
      "Enter your Guess:K\n",
      "Enter your Guess:O\n",
      "Enter your Guess:B\n",
      "Enter your Guess:A\n",
      "Enter your Guess:U\n",
      "Congrat your guess is right\n",
      "your time frame in guessing the correct letter is 17SECONDS\n"
     ]
    }
   ],
   "source": [
    "import random\n",
    "import string\n",
    "letters = string.ascii_uppercase\n",
    "char = list(map(lambda x: x.upper(), letters))\n",
    "guess = random.choice(char)\n",
    "counter = 0\n",
    "start = datetime.datetime.now()\n",
    "yourguess = input('Enter your Guess:')\n",
    "while yourguess != guess:\n",
    "    counter +=1\n",
    "    yourguess = input('Enter your Guess:')\n",
    "else:\n",
    "    print('Congrat your guess is right')\n",
    "stop = datetime.datetime.now()\n",
    "diff = stop - start\n",
    "print(f'your time frame in guessing the correct letter is {diff.seconds}SECONDS')"
   ]
  },
  {
   "cell_type": "code",
   "execution_count": 23,
   "id": "d311573d",
   "metadata": {},
   "outputs": [
    {
     "name": "stdout",
     "output_type": "stream",
     "text": [
      "Enter your Appoiontmentdate [d/m/Y]02/08/2021\n",
      "Hey user you have -91 weeks and 0 until your appointment.\n"
     ]
    }
   ],
   "source": [
    "userdate = input('Enter your Appoiontmentdate [d/m/Y]')\n",
    "appointmentdate = datetime.datetime.strptime(userdate, '%d/%m/%Y').date()\n",
    "currentdate = datetime.date.today()\n",
    "diff = appointmentdate - currentdate\n",
    "trnweeks = diff.days // 7\n",
    "trndays = diff.days % 7\n",
    "print(f'Hey user you have {trnweeks} weeks and {trndays} until your appointment.')"
   ]
  },
  {
   "cell_type": "code",
   "execution_count": null,
   "id": "df8eb76e",
   "metadata": {},
   "outputs": [],
   "source": []
  }
 ],
 "metadata": {
  "kernelspec": {
   "display_name": "Python 3 (ipykernel)",
   "language": "python",
   "name": "python3"
  },
  "language_info": {
   "codemirror_mode": {
    "name": "ipython",
    "version": 3
   },
   "file_extension": ".py",
   "mimetype": "text/x-python",
   "name": "python",
   "nbconvert_exporter": "python",
   "pygments_lexer": "ipython3",
   "version": "3.9.12"
  }
 },
 "nbformat": 4,
 "nbformat_minor": 5
}
