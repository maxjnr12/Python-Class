{
 "cells": [
  {
   "cell_type": "markdown",
   "id": "eee93083",
   "metadata": {},
   "source": [
    "FUNCTIONS"
   ]
  },
  {
   "cell_type": "code",
   "execution_count": 1,
   "id": "dd68b2f7",
   "metadata": {},
   "outputs": [],
   "source": [
    "def greet():\n",
    "    print('WELCOME TO PYTHON CLASS')\n"
   ]
  },
  {
   "cell_type": "code",
   "execution_count": 2,
   "id": "d84e2c94",
   "metadata": {},
   "outputs": [
    {
     "name": "stdout",
     "output_type": "stream",
     "text": [
      "WELCOME TO PYTHON CLASS\n"
     ]
    }
   ],
   "source": [
    "greet()"
   ]
  },
  {
   "cell_type": "code",
   "execution_count": 5,
   "id": "1725ad37",
   "metadata": {},
   "outputs": [
    {
     "name": "stdout",
     "output_type": "stream",
     "text": [
      "Welcome to python class Samuel\n"
     ]
    }
   ],
   "source": [
    "def greet2(name):\n",
    "    print(f'Welcome to python class {name}')\n",
    "greet2('Samuel')"
   ]
  },
  {
   "cell_type": "code",
   "execution_count": 6,
   "id": "35ed2b16",
   "metadata": {},
   "outputs": [
    {
     "name": "stdout",
     "output_type": "stream",
     "text": [
      "Welcome to python class Job\n"
     ]
    }
   ],
   "source": [
    "greet2('Job')"
   ]
  },
  {
   "cell_type": "code",
   "execution_count": 7,
   "id": "4f271aa5",
   "metadata": {},
   "outputs": [
    {
     "name": "stdout",
     "output_type": "stream",
     "text": [
      "Welcome to python class Austine\n"
     ]
    }
   ],
   "source": [
    "greet2('Austine')"
   ]
  },
  {
   "cell_type": "code",
   "execution_count": 8,
   "id": "6e704830",
   "metadata": {},
   "outputs": [
    {
     "name": "stdout",
     "output_type": "stream",
     "text": [
      "Name: Lawal Hope\n",
      "Gender: Female\n",
      "Age: 25\n",
      "\n",
      "You are eligible to vote\n"
     ]
    }
   ],
   "source": [
    "def voteaccreditation(name,gender,age):\n",
    "    print(f'''Name: {name}\n",
    "Gender: {gender}\n",
    "Age: {age}\n",
    "''')\n",
    "    if age >= 18:\n",
    "        print('You are eligible to vote')\n",
    "    else:\n",
    "        print('Sorry you are not eligible to vote')\n",
    "voteaccreditation('Lawal Hope', 'Female', 25)"
   ]
  },
  {
   "cell_type": "code",
   "execution_count": 9,
   "id": "656cdb8f",
   "metadata": {},
   "outputs": [
    {
     "name": "stdout",
     "output_type": "stream",
     "text": [
      "Name: Sam Ola\n",
      "Gender: Male\n",
      "Age: 12\n",
      "\n",
      "Sorry you are not eligible to vote\n"
     ]
    }
   ],
   "source": [
    "voteaccreditation('Sam Ola', 'Male', 12)"
   ]
  },
  {
   "cell_type": "code",
   "execution_count": 16,
   "id": "c240d563",
   "metadata": {},
   "outputs": [
    {
     "name": "stdout",
     "output_type": "stream",
     "text": [
      "Enter your age18\n",
      "Name: Lawal Hope\n",
      "Gender: Female\n",
      "Age: 18\n",
      "\n",
      "You are eligible to vote\n"
     ]
    }
   ],
   "source": [
    "def voteaccreditation2(name,gender,age = int(input('Enter your age'))):\n",
    "    print(f'''Name: {name}\n",
    "Gender: {gender}\n",
    "Age: {age}\n",
    "''')\n",
    "    if age >= 18:\n",
    "        print('You are eligible to vote')\n",
    "    else:\n",
    "        print('Sorry you are not eligible to vote')\n",
    "voteaccreditation2('Lawal Hope','Female')\n",
    "    "
   ]
  },
  {
   "cell_type": "code",
   "execution_count": 24,
   "id": "56ac00ec",
   "metadata": {},
   "outputs": [
    {
     "name": "stdout",
     "output_type": "stream",
     "text": [
      "Enter Your Password2442\n",
      "Pick an operation [deposit, transfer, airtime, data, checkbalance]:logout\n",
      "bye\n"
     ]
    }
   ],
   "source": [
    "passed = [1234,2442,6788,4500]\n",
    "def moniapp():\n",
    "    password = int(input('Enter Your Password'))\n",
    "    counter = 0\n",
    "    balance = 0\n",
    "    while password in passed:\n",
    "        option = input('Pick an operation [deposit, transfer, airtime, data, checkbalance]:')\n",
    "        if option == 'deposit':\n",
    "            amount = float(input('Enter deposit amount'))\n",
    "            balance = balance + amount\n",
    "        elif option == 'transfer':\n",
    "            amount = float(input('Enter transfer amount:'))\n",
    "            if amount > balance and amount == 0:\n",
    "                print('Insufficient funds')\n",
    "            else:\n",
    "                balance = balance - amount\n",
    "                print ('transaction successful')\n",
    "        elif option == 'airtime':\n",
    "            amount = float(input('Enter airtime amount:'))\n",
    "            provider = input('Enter network provider')\n",
    "            number = input('Enter phone number')\n",
    "            if amount > balance and amount == 0:\n",
    "                  print('Insufficient funds')\n",
    "            else:\n",
    "                balance = balance - amount\n",
    "                print('transaction successful')\n",
    "        elif option == 'data':\n",
    "            amount = float(input('Enter data amount:'))\n",
    "            provider = input('Enter network provider')\n",
    "            number = input('Enter phone number')\n",
    "            if amount > balance and amount == 0:\n",
    "                  print('Insufficient funds')\n",
    "            else:\n",
    "                balance = balance - amount\n",
    "                print('transaction successful')\n",
    "        elif option == 'checkbalance':\n",
    "                  print(f'Your available balance is {balance}')\n",
    "        elif option =='logout':\n",
    "            print('bye')\n",
    "            break\n",
    "        password = int(input('Enter your password'))\n",
    "    counter +=1\n",
    "moniapp()\n",
    "           \n",
    "        \n",
    "                \n",
    "                \n",
    "    "
   ]
  },
  {
   "cell_type": "code",
   "execution_count": null,
   "id": "c2fed5c0",
   "metadata": {},
   "outputs": [],
   "source": []
  }
 ],
 "metadata": {
  "kernelspec": {
   "display_name": "Python 3 (ipykernel)",
   "language": "python",
   "name": "python3"
  },
  "language_info": {
   "codemirror_mode": {
    "name": "ipython",
    "version": 3
   },
   "file_extension": ".py",
   "mimetype": "text/x-python",
   "name": "python",
   "nbconvert_exporter": "python",
   "pygments_lexer": "ipython3",
   "version": "3.9.12"
  }
 },
 "nbformat": 4,
 "nbformat_minor": 5
}
