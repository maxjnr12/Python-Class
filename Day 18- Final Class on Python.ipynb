{
 "cells": [
  {
   "cell_type": "code",
   "execution_count": 2,
   "id": "32ca93ba",
   "metadata": {},
   "outputs": [],
   "source": [
    "import mysql.connector"
   ]
  },
  {
   "cell_type": "code",
   "execution_count": 6,
   "id": "6af457fd",
   "metadata": {},
   "outputs": [],
   "source": [
    "mydb = mysql.connector.connect(\n",
    "        host = 'localhost',\n",
    "        user = 'root',\n",
    "        password = 'Esther05#',\n",
    "        database = 'alltimesrecord'\n",
    ")\n",
    "mycursor = mydb.cursor()"
   ]
  },
  {
   "cell_type": "code",
   "execution_count": 8,
   "id": "7838d5ba",
   "metadata": {},
   "outputs": [
    {
     "name": "stdout",
     "output_type": "stream",
     "text": [
      "Enter your password:admin104\n",
      "Enter yes to perform operationyes\n",
      "choose operation option [accept. display, search, update, delete, logout]:accept\n",
      "BOOK ID:104\n",
      "BOOK NAME:Gifted Hands\n",
      "BOOK AUTHOR:Ben Carson\n",
      "BOOK CATEGORY:Motivational Book\n",
      "BOOK QUANTITY:12\n",
      "BOOK REGISTRATION NUMBER:SN6262\n",
      "Enter yes to perform operationyes\n",
      "choose operation option [accept. display, search, update, delete, logout]:display\n",
      "(104, 'Gifted Hands', 'Ben Carson', 'Motivational Book', 12, 'SN6262')\n",
      "Enter yes to perform operationyes\n",
      "choose operation option [accept. display, search, update, delete, logout]:logout\n",
      "loging Out.....\n"
     ]
    }
   ],
   "source": [
    "class library:\n",
    "    def accept(self):\n",
    "        bookid = int(input('BOOK ID:'))\n",
    "        bookname = input('BOOK NAME:')\n",
    "        bookauthor = input('BOOK AUTHOR:')\n",
    "        bookcategory = input('BOOK CATEGORY:')\n",
    "        quantity = int(input('BOOK QUANTITY:'))\n",
    "        ISBN = input('BOOK REGISTRATION NUMBER:')\n",
    "        \n",
    "        sql = 'insert into bookstore(bookid,bookname,bookauthor,bookcategory,quantity, ISBN) values(%s,%s,%s,%s,%s,%s)'\n",
    "        value = [(bookid,bookname,bookauthor,bookcategory,quantity,ISBN)]\n",
    "        mycursor.executemany(sql,value)\n",
    "        mydb.commit()\n",
    "    \n",
    "    def display(self):\n",
    "        mycursor.execute('select * from bookstore')\n",
    "        for x in mycursor:\n",
    "            print(x)\n",
    "            \n",
    "    def search(self):\n",
    "        id = input('Enter book id to search:')\n",
    "        mycursor.execute(f'select * from bookstore where bookid = {id}')\n",
    "        for x in mycursor:\n",
    "            print (x)\n",
    "    \n",
    "    def update(self):\n",
    "        id = input('Enter book id to update:')\n",
    "        column = input('Enter column to update:')\n",
    "        value = input('Enter new value:')\n",
    "        mycursor.execute(f'update bookstore set{column} = \"{value}\" bookstore where bookid = {id}')\n",
    "        mydb.commit()\n",
    "        for x in mycursor:\n",
    "            print (x)\n",
    "            \n",
    "    def delete(self):\n",
    "        id = input('Enter book id to delete:')\n",
    "        mycursor.execute(f'delete from bookstore where bookid = {id}')\n",
    "        mydb.commit()\n",
    "        for x in mycursor:\n",
    "            print (x)\n",
    "            \n",
    "program = library()\n",
    "\n",
    "password = 'admin104'\n",
    "passid = input('Enter your password:')\n",
    "if password == passid:\n",
    "    operation = input('Enter yes to perform operation')\n",
    "    counter = 0\n",
    "    while operation =='yes':\n",
    "        option = input('choose operation option [accept. display, search, update, delete, logout]:')\n",
    "        if option == 'accept':\n",
    "            program.accept()\n",
    "        elif option == 'display':\n",
    "            program.display()\n",
    "        elif option == 'search':\n",
    "            program.search()\n",
    "        elif option == 'update':\n",
    "            program.update()\n",
    "        elif option == 'delete':\n",
    "            program.delete()\n",
    "        elif option == 'logout':\n",
    "            print('loging Out.....')\n",
    "            break\n",
    "        operation = input('Enter yes to perform operation')\n",
    "        counter +=1\n",
    "else:\n",
    "    print('Invalid Password')\n",
    "        \n",
    "            "
   ]
  },
  {
   "cell_type": "code",
   "execution_count": null,
   "id": "3a2862f7",
   "metadata": {},
   "outputs": [],
   "source": []
  }
 ],
 "metadata": {
  "kernelspec": {
   "display_name": "Python 3 (ipykernel)",
   "language": "python",
   "name": "python3"
  },
  "language_info": {
   "codemirror_mode": {
    "name": "ipython",
    "version": 3
   },
   "file_extension": ".py",
   "mimetype": "text/x-python",
   "name": "python",
   "nbconvert_exporter": "python",
   "pygments_lexer": "ipython3",
   "version": "3.9.12"
  }
 },
 "nbformat": 4,
 "nbformat_minor": 5
}
