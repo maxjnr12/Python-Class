{
 "cells": [
  {
   "cell_type": "markdown",
   "id": "17fe156b",
   "metadata": {},
   "source": [
    "TUPLE"
   ]
  },
  {
   "cell_type": "code",
   "execution_count": 2,
   "id": "f3dc5971",
   "metadata": {},
   "outputs": [
    {
     "name": "stdout",
     "output_type": "stream",
     "text": [
      "21\n"
     ]
    }
   ],
   "source": [
    "numbers = (46,53,45,48,55,45,49,51,51,58,50,55,53,57,50,46,55,55,47,57,55)\n",
    "print(len(numbers))"
   ]
  },
  {
   "cell_type": "code",
   "execution_count": 3,
   "id": "a6365165",
   "metadata": {},
   "outputs": [
    {
     "name": "stdout",
     "output_type": "stream",
     "text": [
      "(55, 57, 47, 55, 55, 46, 50, 57, 53, 55, 50, 58, 51, 51, 49, 45, 55, 48, 45, 53, 46)\n"
     ]
    }
   ],
   "source": [
    "print(numbers[::-1])"
   ]
  },
  {
   "cell_type": "code",
   "execution_count": 4,
   "id": "09b7c831",
   "metadata": {},
   "outputs": [
    {
     "name": "stdout",
     "output_type": "stream",
     "text": [
      "58\n"
     ]
    }
   ],
   "source": [
    "print(numbers[9])"
   ]
  },
  {
   "cell_type": "code",
   "execution_count": 5,
   "id": "83c19d05",
   "metadata": {},
   "outputs": [
    {
     "name": "stdout",
     "output_type": "stream",
     "text": [
      "5\n"
     ]
    }
   ],
   "source": [
    "print(numbers.count(55))"
   ]
  },
  {
   "cell_type": "code",
   "execution_count": 6,
   "id": "a5331fe1",
   "metadata": {},
   "outputs": [
    {
     "name": "stdout",
     "output_type": "stream",
     "text": [
      "(49, 51, 51, 58, 50, 55, 53, 57)\n"
     ]
    }
   ],
   "source": [
    "print(numbers[6:14])"
   ]
  },
  {
   "cell_type": "markdown",
   "id": "e2929101",
   "metadata": {},
   "source": [
    "LIST"
   ]
  },
  {
   "cell_type": "code",
   "execution_count": 10,
   "id": "631b418c",
   "metadata": {},
   "outputs": [
    {
     "name": "stdout",
     "output_type": "stream",
     "text": [
      "[58, 57, 57, 55, 55, 55, 55, 55, 53, 53, 51, 51, 50, 50, 49, 48, 47, 46, 46, 45, 45]\n"
     ]
    }
   ],
   "source": [
    "Numbers = [46,53,45,48,55,45,49,51,51,58,50,55,53,57,50,46,55,55,47,57,55,]\n",
    "Numbers.sort(reverse=True)\n",
    "print(Numbers)"
   ]
  },
  {
   "cell_type": "code",
   "execution_count": 13,
   "id": "480ad671",
   "metadata": {},
   "outputs": [
    {
     "name": "stdout",
     "output_type": "stream",
     "text": [
      "0\n"
     ]
    }
   ],
   "source": [
    "print(Numbers.index(58))"
   ]
  },
  {
   "cell_type": "code",
   "execution_count": 14,
   "id": "d6fc31dc",
   "metadata": {},
   "outputs": [
    {
     "name": "stdout",
     "output_type": "stream",
     "text": [
      "2\n"
     ]
    }
   ],
   "source": [
    "print(Numbers.count(51))"
   ]
  },
  {
   "cell_type": "code",
   "execution_count": 20,
   "id": "1e1ddbb2",
   "metadata": {},
   "outputs": [
    {
     "name": "stdout",
     "output_type": "stream",
     "text": [
      "[55, 55, 53, 53, 51, 51, 50, 50]\n"
     ]
    }
   ],
   "source": [
    "print(Numbers[6:14])"
   ]
  },
  {
   "cell_type": "code",
   "execution_count": 25,
   "id": "fd55ea58",
   "metadata": {},
   "outputs": [
    {
     "ename": "AttributeError",
     "evalue": "'list' object has no attribute 'inserts'",
     "output_type": "error",
     "traceback": [
      "\u001b[1;31m---------------------------------------------------------------------------\u001b[0m",
      "\u001b[1;31mAttributeError\u001b[0m                            Traceback (most recent call last)",
      "Input \u001b[1;32mIn [25]\u001b[0m, in \u001b[0;36m<cell line: 1>\u001b[1;34m()\u001b[0m\n\u001b[1;32m----> 1\u001b[0m \u001b[43mNumbers\u001b[49m\u001b[38;5;241;43m.\u001b[39;49m\u001b[43minserts\u001b[49m(\u001b[38;5;241m13\u001b[39m,\u001b[38;5;241m69\u001b[39m)\n\u001b[0;32m      2\u001b[0m \u001b[38;5;28mprint\u001b[39m(Numbers)\n",
      "\u001b[1;31mAttributeError\u001b[0m: 'list' object has no attribute 'inserts'"
     ]
    }
   ],
   "source": []
  },
  {
   "cell_type": "code",
   "execution_count": 26,
   "id": "71141b8a",
   "metadata": {},
   "outputs": [
    {
     "name": "stdout",
     "output_type": "stream",
     "text": [
      "[58, 57, 57, 55, 55, 55, 55, 55, 53, 53, 51, 51, 50, 50, 49, 48, 47, 46, 46, 45, 45, 89, 85, 36, 95, 45, 78, 89, 85, 36, 95, 45, 78]\n"
     ]
    }
   ],
   "source": [
    "f = [89,85,36,95,45,78]"
   ]
  },
  {
   "cell_type": "markdown",
   "id": "deffde3a",
   "metadata": {},
   "source": [
    "DICTIONARY"
   ]
  },
  {
   "cell_type": "code",
   "execution_count": null,
   "id": "4e248a9b",
   "metadata": {},
   "outputs": [],
   "source": [
    "records = {\n",
    "    'Name': 'Arsenal FC' 'Location': 'London''Managers Name': 'Mikel Arteta''Club Captain': 'Martin Odegaard''Networth': '3.6 Billion Dollars' 'Club Information': '4-2-3-1'\n",
    "    'Name': 'Manchester United FC' 'Location': 'Manchester' 'Managers Name': 'Erik Ten Hag' 'Club Captain': 'Harry Maguire' 'Networth': '4.6 Billion Dollars' 'Club Formation':'4-4-2'\n",
    "    'Name': 'Liverpool FC' 'Location': 'North-West England' 'Managers Name': 'Jurgen Klopp' 'Club Captain': 'Jordan Henderson' 'Networth': '4.45 Billion Dollars' 'Club Formation': '4-3-3'\n",
    "    'Name': 'Manchester City FC' 'Location': 'Manchester' 'Managers Name': 'Pep Guardiola' 'Club Captain': 'Iikay Gundogan' 'Networth': '4.25 Billion Dollars' 'Club Formation': '4-2-3-1'\n",
    "    'Name': 'Bayern Munich FC' 'Location': 'Munich,Germany' 'managers Name': 'Thomas Tuchel' 'Club Captain': 'Manuel Neuer' 'Networth': '4.275 Billion Dollars' 'Club Formation': '4-2-3-1'\n",
    "    'Name': 'Real Madrid FC' 'Location': 'Madrid,Spain' 'Managers Name': 'Carlo Ancelotti'  'Club Captain': 'Karim Benzema' 'Networth': '5.1 Billion Dollars' 'Club Formation': '4-3-3'\n",
    "    'Name': 'Paris Saint Germain FC' 'Location': 'Paris,France' 'Managers Name': 'Christopher Galtier' 'Club Captain': 'Kylian Mbappe' 'Networth': '3.2 Billion Dollars' 'Club Formation': '4-3-2-1'\n",
    "    'Name': 'Juventus FC' 'Location': 'Turin,Italy' 'Managers Name': 'Massimiliano Allegri' 'Club Captain': 'Leonardo Bonucci'  'Networth': '0.92 Billion Dollars' 'Club Formation': '4-3-3'\n",
    "    'Name': 'Napoli FC' 'Location': 'Naples City,Italy' 'Managers Name': 'Luciano Spaletti' 'Club Captain': 'Giovanni Di Lorenzo' 'Networth': '543 Million Euros' 'Club Formation': '4-1-4-1'\n",
    "    'Name': 'Barcelona FC' 'Location': 'Barcelona City,Spain' 'Managers Name': 'Xavi Hernandez' 'Club Captain': 'Sergio Busquets' 'Networth': '5 Billion Dollars' 'Club Formation': '4-3-3'    \n",
    "}"
   ]
  }
 ],
 "metadata": {
  "kernelspec": {
   "display_name": "Python 3 (ipykernel)",
   "language": "python",
   "name": "python3"
  },
  "language_info": {
   "codemirror_mode": {
    "name": "ipython",
    "version": 3
   },
   "file_extension": ".py",
   "mimetype": "text/x-python",
   "name": "python",
   "nbconvert_exporter": "python",
   "pygments_lexer": "ipython3",
   "version": "3.9.12"
  }
 },
 "nbformat": 4,
 "nbformat_minor": 5
}
