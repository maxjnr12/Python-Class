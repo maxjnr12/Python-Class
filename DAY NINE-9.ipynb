{
 "cells": [
  {
   "cell_type": "code",
   "execution_count": 9,
   "id": "ac51a810",
   "metadata": {},
   "outputs": [],
   "source": [
    "class simulation:\n",
    "    def __init__(self,brand,model,color,year,speed):\n",
    "        self.brand = brand\n",
    "        self.model = model\n",
    "        self.color = color\n",
    "        self.year = year\n",
    "        self.speed = speed\n",
    "        \n",
    "    def start(self):\n",
    "        print(f'{self.brand} {self.model} has started')\n",
    "        \n",
    "    def gear(self,option):\n",
    "        if option == 1:\n",
    "            print('Gear changed to 1')\n",
    "        elif option == 2:\n",
    "            print('Gear changed to 2')\n",
    "        elif option == 3:\n",
    "            print('Gear changed to 3')\n",
    "        elif option == 4:\n",
    "            print('Gear changed to 4')\n",
    "        elif option == 5:\n",
    "            print('Gear changed to 5')\n",
    "        elif option == 6:\n",
    "            print('Gear changed to reverse')\n",
    "            \n",
    "    def accelerate(self,option):\n",
    "            if option == 1:\n",
    "                print('nitro engaged')\n",
    "            elif option == 2:\n",
    "                print('nitro disengaged')\n",
    "                \n",
    "                \n",
    "    def stop(self):\n",
    "            print(f'{self.brand} {self.model} has stoppped')\n",
    "            \n",
    "car1 = simulation('Audi','AG6','White',2020,450)\n",
    "        "
   ]
  },
  {
   "cell_type": "code",
   "execution_count": 10,
   "id": "a59b7865",
   "metadata": {},
   "outputs": [
    {
     "name": "stdout",
     "output_type": "stream",
     "text": [
      "Audi AG6 has started\n"
     ]
    }
   ],
   "source": [
    "car1.start()"
   ]
  },
  {
   "cell_type": "code",
   "execution_count": 11,
   "id": "85638256",
   "metadata": {},
   "outputs": [
    {
     "name": "stdout",
     "output_type": "stream",
     "text": [
      "nitro engaged\n"
     ]
    }
   ],
   "source": [
    "car1.accelerate(1)"
   ]
  },
  {
   "cell_type": "code",
   "execution_count": 12,
   "id": "91b0e08f",
   "metadata": {},
   "outputs": [
    {
     "name": "stdout",
     "output_type": "stream",
     "text": [
      "nitro disengaged\n"
     ]
    }
   ],
   "source": [
    "car1.accelerate(2)"
   ]
  },
  {
   "cell_type": "code",
   "execution_count": 13,
   "id": "58e24889",
   "metadata": {},
   "outputs": [],
   "source": [
    "class simulation2(simulation):\n",
    "    def openroof(self,option):\n",
    "        if option == 1:\n",
    "            print('roof open')\n",
    "        elif option == 2:\n",
    "            print('roof closed')\n",
    "car2 = simulation2('Mercedes Benz','GLK','Black',2023,600)"
   ]
  },
  {
   "cell_type": "code",
   "execution_count": 14,
   "id": "c871a9eb",
   "metadata": {},
   "outputs": [
    {
     "name": "stdout",
     "output_type": "stream",
     "text": [
      "Mercedes Benz GLK has started\n"
     ]
    }
   ],
   "source": [
    "car2.start()"
   ]
  },
  {
   "cell_type": "code",
   "execution_count": 15,
   "id": "406a87f8",
   "metadata": {},
   "outputs": [
    {
     "ename": "AttributeError",
     "evalue": "'simulation' object has no attribute 'openroof'",
     "output_type": "error",
     "traceback": [
      "\u001b[1;31m---------------------------------------------------------------------------\u001b[0m",
      "\u001b[1;31mAttributeError\u001b[0m                            Traceback (most recent call last)",
      "Input \u001b[1;32mIn [15]\u001b[0m, in \u001b[0;36m<cell line: 1>\u001b[1;34m()\u001b[0m\n\u001b[1;32m----> 1\u001b[0m \u001b[43mcar1\u001b[49m\u001b[38;5;241;43m.\u001b[39;49m\u001b[43mopenroof\u001b[49m()\n",
      "\u001b[1;31mAttributeError\u001b[0m: 'simulation' object has no attribute 'openroof'"
     ]
    }
   ],
   "source": [
    "car1.openroof()"
   ]
  },
  {
   "cell_type": "code",
   "execution_count": 17,
   "id": "866f5851",
   "metadata": {},
   "outputs": [
    {
     "name": "stdout",
     "output_type": "stream",
     "text": [
      "Enter First Number:30\n",
      "Enter Second Numbers:10\n",
      " +\n",
      "-\n",
      "*\n",
      "/\n",
      "+\n",
      "30 + 10 = 40\n"
     ]
    }
   ],
   "source": [
    "try:\n",
    "    num1 = int(input('Enter First Number:'))\n",
    "    num2 = int(input('Enter Second Numbers:'))\n",
    "    option = input(''' +\n",
    "-\n",
    "*\n",
    "/\n",
    "''')\n",
    "    if option == '+':\n",
    "        print(f'{num1} + {num2} = {num1 + num2}')\n",
    "    elif option == '-':\n",
    "        print(f'{num1} - {num2} = {num1 - num2}')\n",
    "    elif option == '*':\n",
    "        print(f'{num1} * {num2} = {num1 * num2}')\n",
    "    elif option == '/':\n",
    "        print(f'{num1} / {num2} = {num1 / num2}')\n",
    "except:\n",
    "    print('You have encountered one or more errors')\n",
    "    "
   ]
  },
  {
   "cell_type": "code",
   "execution_count": 20,
   "id": "d5c2e8cb",
   "metadata": {},
   "outputs": [
    {
     "name": "stdout",
     "output_type": "stream",
     "text": [
      "Enter First Number:20\n",
      "Enter Second Numbers:2\n",
      " +\n",
      "-\n",
      "*\n",
      "/\n",
      "=\n",
      "400\n",
      "End of program\n"
     ]
    }
   ],
   "source": [
    "try:\n",
    "    num1 = int(input('Enter First Number:'))\n",
    "    num2 = int(input('Enter Second Numbers:'))\n",
    "    option = input(''' +\n",
    "-\n",
    "*\n",
    "/\n",
    "''')\n",
    "    if option == '+':\n",
    "        print(f'{num1} + {num2} = {num1 + num2}')\n",
    "    elif option == '-':\n",
    "        print(f'{num1} - {num2} = {num1 - num2}')\n",
    "    elif option == '*':\n",
    "        print(f'{num1} * {num2} = {num1 * num2}')\n",
    "    elif option == '/':\n",
    "        print(f'{num1} / {num2} = {num1 / num2}')\n",
    "except ValueError:\n",
    "    print('Wrong Value Only Integer Values expected....')\n",
    "except ZeroDivisionError:\n",
    "    print('You cannot divide a number by Zero')\n",
    "except:\n",
    "    print('You have encountered one or more errors')\n",
    "else:\n",
    "    print(num1 ** num2)\n",
    "finally:\n",
    "    print('End of program')"
   ]
  },
  {
   "cell_type": "code",
   "execution_count": 21,
   "id": "5fede396",
   "metadata": {},
   "outputs": [
    {
     "data": {
      "text/plain": [
       "16"
      ]
     },
     "execution_count": 21,
     "metadata": {},
     "output_type": "execute_result"
    }
   ],
   "source": [
    "(lambda x:x+x)(8)"
   ]
  },
  {
   "cell_type": "code",
   "execution_count": 23,
   "id": "0becafff",
   "metadata": {},
   "outputs": [],
   "source": [
    "numbers = []\n",
    "import random\n",
    "counter = 1\n",
    "while counter <= 50:\n",
    "    num = random.randint(45,80)\n",
    "    numbers.append(num)\n",
    "    counter += 1"
   ]
  },
  {
   "cell_type": "code",
   "execution_count": 24,
   "id": "6986e8a4",
   "metadata": {},
   "outputs": [
    {
     "name": "stdout",
     "output_type": "stream",
     "text": [
      "[51, 57, 55, 72, 54, 65, 72, 74, 58, 62, 79, 54, 51, 78, 58, 72, 53, 74, 54, 71, 68, 61, 49, 53, 70, 73, 76, 46, 55, 61, 52, 46, 54, 75, 72, 60, 68, 77, 69, 51, 71, 65, 75, 46, 49, 51, 78, 57, 51, 63]\n"
     ]
    }
   ],
   "source": [
    "print(numbers)"
   ]
  },
  {
   "cell_type": "code",
   "execution_count": 25,
   "id": "74b88c74",
   "metadata": {},
   "outputs": [
    {
     "name": "stdout",
     "output_type": "stream",
     "text": [
      "[51.0, 57.0, 55.0, 72.0, 54.0, 65.0, 72.0, 74.0, 58.0, 62.0, 79.0, 54.0, 51.0, 78.0, 58.0, 72.0, 53.0, 74.0, 54.0, 71.0, 68.0, 61.0, 49.0, 53.0, 70.0, 73.0, 76.0, 46.0, 55.0, 61.0, 52.0, 46.0, 54.0, 75.0, 72.0, 60.0, 68.0, 77.0, 69.0, 51.0, 71.0, 65.0, 75.0, 46.0, 49.0, 51.0, 78.0, 57.0, 51.0, 63.0]\n"
     ]
    }
   ],
   "source": [
    "ulist = list(map(lambda x:float(x), numbers))\n",
    "print(ulist)"
   ]
  },
  {
   "cell_type": "code",
   "execution_count": 27,
   "id": "72a4870c",
   "metadata": {},
   "outputs": [
    {
     "name": "stdout",
     "output_type": "stream",
     "text": [
      "[72, 54, 72, 74, 58, 62, 54, 78, 58, 72, 74, 54, 68, 70, 76, 46, 52, 46, 54, 72, 60, 68, 46, 78]\n"
     ]
    }
   ],
   "source": [
    "ulist = list(filter(lambda x:x%2 == 0, numbers))\n",
    "print(ulist)"
   ]
  },
  {
   "cell_type": "code",
   "execution_count": null,
   "id": "325ad7a4",
   "metadata": {},
   "outputs": [],
   "source": []
  }
 ],
 "metadata": {
  "kernelspec": {
   "display_name": "Python 3 (ipykernel)",
   "language": "python",
   "name": "python3"
  },
  "language_info": {
   "codemirror_mode": {
    "name": "ipython",
    "version": 3
   },
   "file_extension": ".py",
   "mimetype": "text/x-python",
   "name": "python",
   "nbconvert_exporter": "python",
   "pygments_lexer": "ipython3",
   "version": "3.9.12"
  }
 },
 "nbformat": 4,
 "nbformat_minor": 5
}
