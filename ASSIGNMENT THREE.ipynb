{
 "cells": [
  {
   "cell_type": "code",
   "execution_count": null,
   "id": "a719cf2b",
   "metadata": {},
   "outputs": [],
   "source": [
    "condition = input('provide item condition {fragile, non-fragile}:')\n",
    "weight = float(input('provide item weight in kg:'))\n",
    "location = input('provide shipping location [north, west, south, east]')\n",
    "if condition == fragile and location =='North':\n",
    "    print(f'Your Shippig cost is: N{weight * 150}')\n",
    "elif condition == fragile and location =='South':\n",
    "    print(f'Your Shippig cost is: N{weight * 120}')\n",
    "elif condition == fragile and location =='East':\n",
    "    print(f'Your Shippig cost is: N{weight * 115}')\n",
    "elif condition == fragile  and location =='West':\n",
    "    print(f'Your Shippig cost is: N{weight * 100}')\n",
    "if condition == non-fragile  and location =='North':\n",
    "    print(f'Your Shippig cost is: N{weight * 95}')\n",
    "elif condition == non-fragile and location =='West':\n",
    "    print(f'Your Shippig cost is: N{weight * 75}')\n",
    "elif condition == non-fragile and location =='East':\n",
    "    print(f'Your Shippig cost is: N{weight * 80}')\n",
    "elif condition == non-fragile and location =='South':\n",
    "    print(f'Your Shippig cost is: N{weight * 76}')\n",
    "else:\n",
    "    print('Shipping Condition or Location Inputed Wrongly')\n",
    "\n",
    "    \n",
    "\n",
    "            "
   ]
  },
  {
   "cell_type": "code",
   "execution_count": null,
   "id": "0d785479",
   "metadata": {},
   "outputs": [],
   "source": []
  }
 ],
 "metadata": {
  "kernelspec": {
   "display_name": "Python 3 (ipykernel)",
   "language": "python",
   "name": "python3"
  },
  "language_info": {
   "codemirror_mode": {
    "name": "ipython",
    "version": 3
   },
   "file_extension": ".py",
   "mimetype": "text/x-python",
   "name": "python",
   "nbconvert_exporter": "python",
   "pygments_lexer": "ipython3",
   "version": "3.9.12"
  }
 },
 "nbformat": 4,
 "nbformat_minor": 5
}
