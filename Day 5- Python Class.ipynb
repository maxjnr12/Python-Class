{
 "cells": [
  {
   "cell_type": "markdown",
   "id": "18249143",
   "metadata": {},
   "source": [
    "LOOPS\n",
    "\n",
    "FOR LOOP"
   ]
  },
  {
   "cell_type": "code",
   "execution_count": 1,
   "id": "b2f02df7",
   "metadata": {},
   "outputs": [
    {
     "name": "stdout",
     "output_type": "stream",
     "text": [
      "ppp\n",
      "yyy\n",
      "ttt\n",
      "hhh\n",
      "ooo\n",
      "nnn\n"
     ]
    }
   ],
   "source": [
    "word = 'python'\n",
    "for char in word:\n",
    "    print(char * 3)"
   ]
  },
  {
   "cell_type": "code",
   "execution_count": 3,
   "id": "2962206e",
   "metadata": {},
   "outputs": [
    {
     "name": "stdout",
     "output_type": "stream",
     "text": [
      "ppp//yyy//ttt//hhh//ooo//nnn//"
     ]
    }
   ],
   "source": [
    "word = 'python'\n",
    "for char in word:\n",
    "    print(char * 3, end = '//')"
   ]
  },
  {
   "cell_type": "code",
   "execution_count": 4,
   "id": "673b3e70",
   "metadata": {},
   "outputs": [
    {
     "name": "stdout",
     "output_type": "stream",
     "text": [
      "dear Ade, this is a kind of reminder of the meeting this eveing.\n",
      "dear Mary, this is a kind of reminder of the meeting this eveing.\n",
      "dear Hope, this is a kind of reminder of the meeting this eveing.\n",
      "dear Favour, this is a kind of reminder of the meeting this eveing.\n",
      "dear Joy, this is a kind of reminder of the meeting this eveing.\n"
     ]
    }
   ],
   "source": [
    "names = ['Ade', 'Mary', 'Hope', 'Favour', 'Joy']\n",
    "for name in names:\n",
    "    print(f'dear {name}, this is a kind of reminder of the meeting this eveing.')"
   ]
  },
  {
   "cell_type": "markdown",
   "id": "3d4b7b71",
   "metadata": {},
   "source": [
    "In a school, how can you use a for loop to iterate over a list of student and perform a specific action for each student, such as printing out their grades or generate report cards"
   ]
  },
  {
   "cell_type": "code",
   "execution_count": 8,
   "id": "8891caf3",
   "metadata": {},
   "outputs": [
    {
     "name": "stdout",
     "output_type": "stream",
     "text": [
      "____________ STUDENT JAMB RESULT________\n",
      "NAME:Sam Ford\n",
      "GENDER:Male\n",
      "AGE:16\n",
      "ENGLISH:80\n",
      "MATH:78\n",
      "CHEMISTRY:70\n",
      "BIOLOGY:68\n",
      "TOTAL SCORE: 296\n",
      "    \n",
      "____________ STUDENT JAMB RESULT________\n",
      "NAME:Mary Njoku\n",
      "GENDER:Female\n",
      "AGE:15\n",
      "ENGLISH:90\n",
      "MATH:75\n",
      "CHEMISTRY:80\n",
      "BIOLOGY:77\n",
      "TOTAL SCORE: 322\n",
      "    \n",
      "____________ STUDENT JAMB RESULT________\n",
      "NAME:Okoro Hope\n",
      "GENDER:Female\n",
      "AGE:17\n",
      "ENGLISH:75\n",
      "MATH:66\n",
      "CHEMISTRY:65\n",
      "BIOLOGY:100\n",
      "TOTAL SCORE: 306\n",
      "    \n",
      "____________ STUDENT JAMB RESULT________\n",
      "NAME:Samuel Akpan\n",
      "GENDER:Male\n",
      "AGE:16\n",
      "ENGLISH:70\n",
      "MATH:82\n",
      "CHEMISTRY:68\n",
      "BIOLOGY:55\n",
      "TOTAL SCORE: 275\n",
      "    \n",
      "____________ STUDENT JAMB RESULT________\n",
      "NAME:Job GoodMan\n",
      "GENDER:Male\n",
      "AGE:15\n",
      "ENGLISH:90\n",
      "MATH:70\n",
      "CHEMISTRY:90\n",
      "BIOLOGY:75\n",
      "TOTAL SCORE: 325\n",
      "    \n"
     ]
    }
   ],
   "source": [
    "student_records = {\n",
    "    '001':{'Name':'Sam Ford', 'Gender':'Male', 'Age':'16', 'English':80 ,'Math':78, 'Chemistry':70, 'Biology':68},\n",
    "    '002':{'Name':'Mary Njoku', 'Gender':'Female', 'Age':'15', 'English':90, 'Math':75, 'Chemistry':80, 'Biology':77},\n",
    "    '003':{'Name':'Okoro Hope', 'Gender':'Female', 'Age':'17', 'English':75 ,'Math':66, 'Chemistry':65, 'Biology':100},\n",
    "    '004':{'Name':'Samuel Akpan', 'Gender':'Male', 'Age':'16', 'English':70 ,'Math':82, 'Chemistry':68, 'Biology':55},\n",
    "    '005':{'Name':'Job GoodMan', 'Gender':'Male', 'Age':'15', 'English':90 ,'Math':70, 'Chemistry':90, 'Biology':75}\n",
    "}\n",
    "for key in student_records:\n",
    "    print(f'''____________ STUDENT JAMB RESULT________\n",
    "NAME:{student_records[key]['Name']}\n",
    "GENDER:{student_records[key]['Gender']}\n",
    "AGE:{student_records[key]['Age']}\n",
    "ENGLISH:{student_records[key]['English']}\n",
    "MATH:{student_records[key]['Math']}\n",
    "CHEMISTRY:{student_records[key]['Chemistry']}\n",
    "BIOLOGY:{student_records[key]['Biology']}\n",
    "TOTAL SCORE: {student_records[key]['English'] + student_records[key]['Math'] + student_records[key]['Chemistry'] + student_records[key]['Biology']}\n",
    "    ''')\n"
   ]
  },
  {
   "cell_type": "code",
   "execution_count": 10,
   "id": "df72d3d1",
   "metadata": {},
   "outputs": [
    {
     "name": "stdout",
     "output_type": "stream",
     "text": [
      "ENTER YOUR STUDENT ID009\n",
      "records not found\n"
     ]
    }
   ],
   "source": [
    "student_records = {\n",
    "    '001':{'Name':'Sam Ford', 'Gender':'Male', 'Age':'16', 'English':80 ,'Math':78, 'Chemistry':70, 'Biology':68},\n",
    "    '002':{'Name':'Mary Njoku', 'Gender':'Female', 'Age':'15', 'English':90, 'Math':75, 'Chemistry':80, 'Biology':77},\n",
    "    '003':{'Name':'Okoro Hope', 'Gender':'Female', 'Age':'17', 'English':75 ,'Math':66, 'Chemistry':65, 'Biology':100},\n",
    "    '004':{'Name':'Samuel Akpan', 'Gender':'Male', 'Age':'16', 'English':70 ,'Math':82, 'Chemistry':68, 'Biology':55},\n",
    "    '005':{'Name':'Job GoodMan', 'Gender':'Male', 'Age':'15', 'English':90 ,'Math':70, 'Chemistry':90, 'Biology':75}\n",
    "}\n",
    "ID=input('ENTER YOUR STUDENT ID')\n",
    "for key in student_records:\n",
    "    if ID ==key:\n",
    "        print(f'''____________ STUDENT JAMB RESULT________\n",
    "NAME:{student_records[key]['Name']}\n",
    "GENDER:{student_records[key]['Gender']}\n",
    "AGE:{student_records[key]['Age']}\n",
    "ENGLISH:{student_records[key]['English']}\n",
    "MATH:{student_records[key]['Math']}\n",
    "CHEMISTRY:{student_records[key]['Chemistry']}\n",
    "BIOLOGY:{student_records[key]['Biology']}\n",
    "TOTAL SCORE: {student_records[key]['English'] + student_records[key]['Math'] + student_records[key]['Chemistry'] + student_records[key]['Biology']}\n",
    "    ''')\n",
    "        break\n",
    "else:\n",
    "    print('records not found')\n",
    "     "
   ]
  },
  {
   "cell_type": "markdown",
   "id": "77358d6e",
   "metadata": {},
   "source": [
    "# While Loop\n",
    "\n",
    "\n",
    "# How can a shipping company use a while loop to repeatedly attempt delivery of a package until it is successfully delivered."
   ]
  },
  {
   "cell_type": "code",
   "execution_count": 11,
   "id": "8a50515a",
   "metadata": {},
   "outputs": [
    {
     "name": "stdout",
     "output_type": "stream",
     "text": [
      "Enter package id:ADADER5643734\n",
      "Enter item status:pending\n",
      "ADADER5643734 id still in transit try again...........\n",
      "Enter item status:pending\n",
      "ADADER5643734 id still in transit try again...........\n",
      "Enter item status:success\n",
      "ADADER5643734 id delivered successfully\n"
     ]
    }
   ],
   "source": [
    "package = input('Enter package id:')\n",
    "counter = 0\n",
    "delivered = False\n",
    "while not delivered:\n",
    "    status = input('Enter item status:')\n",
    "    if status == 'pending':\n",
    "        print(f'{package} id still in transit try again...........')\n",
    "    elif status == 'success':\n",
    "        print(f'{package} id delivered successfully')\n",
    "        delivered = True\n",
    "    counter = counter + 1"
   ]
  },
  {
   "cell_type": "code",
   "execution_count": 12,
   "id": "2a070dac",
   "metadata": {},
   "outputs": [
    {
     "name": "stdout",
     "output_type": "stream",
     "text": [
      "3\n"
     ]
    }
   ],
   "source": [
    "print(counter)"
   ]
  },
  {
   "cell_type": "code",
   "execution_count": 13,
   "id": "4c1efe6c",
   "metadata": {},
   "outputs": [
    {
     "name": "stdout",
     "output_type": "stream",
     "text": [
      "Enter any number:40\n",
      "40 * 1 = 40\n",
      "40 * 2 = 80\n",
      "40 * 3 = 120\n",
      "40 * 4 = 160\n",
      "40 * 5 = 200\n",
      "40 * 6 = 240\n",
      "40 * 7 = 280\n",
      "40 * 8 = 320\n",
      "40 * 9 = 360\n",
      "40 * 10 = 400\n",
      "40 * 11 = 440\n",
      "40 * 12 = 480\n"
     ]
    }
   ],
   "source": [
    "num = int(input('Enter any number:'))\n",
    "counter = 1\n",
    "while counter <= 12:\n",
    "    print(f'{num} * {counter} = {num * counter}')\n",
    "    counter += 1"
   ]
  },
  {
   "cell_type": "code",
   "execution_count": null,
   "id": "35729bf6",
   "metadata": {},
   "outputs": [],
   "source": []
  }
 ],
 "metadata": {
  "kernelspec": {
   "display_name": "Python 3 (ipykernel)",
   "language": "python",
   "name": "python3"
  },
  "language_info": {
   "codemirror_mode": {
    "name": "ipython",
    "version": 3
   },
   "file_extension": ".py",
   "mimetype": "text/x-python",
   "name": "python",
   "nbconvert_exporter": "python",
   "pygments_lexer": "ipython3",
   "version": "3.9.12"
  }
 },
 "nbformat": 4,
 "nbformat_minor": 5
}
