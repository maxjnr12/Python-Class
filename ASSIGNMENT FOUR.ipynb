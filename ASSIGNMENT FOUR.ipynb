{
 "cells": [
  {
   "cell_type": "markdown",
   "id": "182687d5",
   "metadata": {},
   "source": [
    "CALCULATOR(BMI)\n",
    "\n",
    "FORMULA: \n",
    "\n",
    "BMI = Weight (kg) / Height(m)"
   ]
  },
  {
   "cell_type": "code",
   "execution_count": 9,
   "id": "cd7dc1c8",
   "metadata": {},
   "outputs": [],
   "source": [
    "Umderweight = 18.5\n",
    "Normal = 24.9\n",
    "Overweight = 29.9\n",
    "Obese = 30 "
   ]
  },
  {
   "cell_type": "code",
   "execution_count": 13,
   "id": "91e61cc8",
   "metadata": {},
   "outputs": [
    {
     "data": {
      "text/plain": [
       "'is underweight'"
      ]
     },
     "execution_count": 13,
     "metadata": {},
     "output_type": "execute_result"
    }
   ],
   "source": [
    "def bmi_calculator(Weight_kg,height):\n",
    "    bmi = Weight_kg/(height**2)\n",
    "    if bmi < 18.5:\n",
    "        return 'is underweight'\n",
    "bmi_calculator(20,1.14)"
   ]
  },
  {
   "cell_type": "code",
   "execution_count": 12,
   "id": "fd7ccb91",
   "metadata": {},
   "outputs": [
    {
     "data": {
      "text/plain": [
       "15.389350569405973"
      ]
     },
     "execution_count": 12,
     "metadata": {},
     "output_type": "execute_result"
    }
   ],
   "source": [
    "20/1.14**2"
   ]
  },
  {
   "cell_type": "code",
   "execution_count": 7,
   "id": "e6dadf83",
   "metadata": {},
   "outputs": [
    {
     "data": {
      "text/plain": [
       "'is normal '"
      ]
     },
     "execution_count": 7,
     "metadata": {},
     "output_type": "execute_result"
    }
   ],
   "source": [
    "def bmi_calculator(Weight_kg,height):\n",
    "    bmi = Weight_kg/(height**2)\n",
    "    if bmi < 24.9:\n",
    "        return 'is normal '\n",
    "bmi_calculator(30,1.14)"
   ]
  },
  {
   "cell_type": "code",
   "execution_count": 8,
   "id": "4e1efa9b",
   "metadata": {},
   "outputs": [
    {
     "data": {
      "text/plain": [
       "23.08402585410896"
      ]
     },
     "execution_count": 8,
     "metadata": {},
     "output_type": "execute_result"
    }
   ],
   "source": [
    "30/1.14**2\n"
   ]
  },
  {
   "cell_type": "code",
   "execution_count": 17,
   "id": "6f0256f8",
   "metadata": {},
   "outputs": [
    {
     "ename": "TypeError",
     "evalue": "bmi_calculator() missing 1 required positional argument: 'height'",
     "output_type": "error",
     "traceback": [
      "\u001b[1;31m---------------------------------------------------------------------------\u001b[0m",
      "\u001b[1;31mTypeError\u001b[0m                                 Traceback (most recent call last)",
      "Input \u001b[1;32mIn [17]\u001b[0m, in \u001b[0;36m<cell line: 5>\u001b[1;34m()\u001b[0m\n\u001b[0;32m      3\u001b[0m     \u001b[38;5;28;01mif\u001b[39;00m bmi \u001b[38;5;241m<\u001b[39m \u001b[38;5;241m29.9\u001b[39m:\n\u001b[0;32m      4\u001b[0m         \u001b[38;5;28;01mreturn\u001b[39;00m \u001b[38;5;124m'\u001b[39m\u001b[38;5;124mis overweight \u001b[39m\u001b[38;5;124m'\u001b[39m\n\u001b[1;32m----> 5\u001b[0m \u001b[43mbmi_calculator\u001b[49m\u001b[43m(\u001b[49m\u001b[38;5;241;43m30\u001b[39;49m\u001b[38;5;241;43m/\u001b[39;49m\u001b[38;5;241;43m1.14\u001b[39;49m\u001b[43m)\u001b[49m\n",
      "\u001b[1;31mTypeError\u001b[0m: bmi_calculator() missing 1 required positional argument: 'height'"
     ]
    }
   ],
   "source": [
    "def bmi_calculator(Weight_kg,height):\n",
    "    bmi = Weight_kg/(height**2)\n",
    "    if bmi < 29.9:\n",
    "        return 'is overweight '\n",
    "bmi_calculator(30/1.14)"
   ]
  },
  {
   "cell_type": "code",
   "execution_count": 16,
   "id": "8c8a26d0",
   "metadata": {},
   "outputs": [
    {
     "data": {
      "text/plain": [
       "26.315789473684212"
      ]
     },
     "execution_count": 16,
     "metadata": {},
     "output_type": "execute_result"
    }
   ],
   "source": [
    "30/1.14"
   ]
  },
  {
   "cell_type": "code",
   "execution_count": null,
   "id": "c93226e2",
   "metadata": {},
   "outputs": [],
   "source": []
  }
 ],
 "metadata": {
  "kernelspec": {
   "display_name": "Python 3 (ipykernel)",
   "language": "python",
   "name": "python3"
  },
  "language_info": {
   "codemirror_mode": {
    "name": "ipython",
    "version": 3
   },
   "file_extension": ".py",
   "mimetype": "text/x-python",
   "name": "python",
   "nbconvert_exporter": "python",
   "pygments_lexer": "ipython3",
   "version": "3.9.12"
  }
 },
 "nbformat": 4,
 "nbformat_minor": 5
}
