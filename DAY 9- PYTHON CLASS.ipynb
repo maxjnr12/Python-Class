{
 "cells": [
  {
   "cell_type": "markdown",
   "id": "46145501",
   "metadata": {},
   "source": [
    "FUNCTIONS"
   ]
  },
  {
   "cell_type": "code",
   "execution_count": 1,
   "id": "2a91511e",
   "metadata": {},
   "outputs": [
    {
     "ename": "SyntaxError",
     "evalue": "invalid syntax (2233267928.py, line 1)",
     "output_type": "error",
     "traceback": [
      "\u001b[1;36m  Input \u001b[1;32mIn [1]\u001b[1;36m\u001b[0m\n\u001b[1;33m    GRADE POINT\u001b[0m\n\u001b[1;37m          ^\u001b[0m\n\u001b[1;31mSyntaxError\u001b[0m\u001b[1;31m:\u001b[0m invalid syntax\n"
     ]
    }
   ],
   "source": [
    "GRADE POINT\n",
    "\n",
    "70 to 100 GRADE A\n",
    "\n",
    "60 to 69.9 GRADE B\n",
    "\n",
    "50 to 59.9 GRADE c\n",
    "\n",
    "40 to 49.99 GRADE D\n",
    "\n",
    "\n"
   ]
  },
  {
   "cell_type": "code",
   "execution_count": 2,
   "id": "1f5bf019",
   "metadata": {},
   "outputs": [
    {
     "ename": "SyntaxError",
     "evalue": "invalid syntax (285310716.py, line 10)",
     "output_type": "error",
     "traceback": [
      "\u001b[1;36m  Input \u001b[1;32mIn [2]\u001b[1;36m\u001b[0m\n\u001b[1;33m    gradepoint =\u001b[0m\n\u001b[1;37m                 ^\u001b[0m\n\u001b[1;31mSyntaxError\u001b[0m\u001b[1;31m:\u001b[0m invalid syntax\n"
     ]
    }
   ],
   "source": [
    "def gradecalculator():\n",
    "    subject1 = float(input('English Score:'))\n",
    "    subject2 = float(input('Math Score:'))\n",
    "    subject3 = float(input('Chemistry Score:'))\n",
    "    subject4 = float(input('Physics Score:'))\n",
    "    subject5 = float(input('Biology Score:'))\n",
    "    subject6 = float(input('Economics Score:'))\n",
    "    subject7 = float(input('Geography Score:'))\n",
    "    subject8 = float(input('Agricultural Score:'))\n",
    "    gradepoint = sum(Subject1,Subject2,Subject3,Subject4,Subject5,Subject6,Subject7,Subject8)/len(Subject1,Subject2,Subject3,Subject4,Subject5,Subject6,Subject7,Subject8)\n",
    "    \n",
    "    \n",
    "    "
   ]
  },
  {
   "cell_type": "code",
   "execution_count": 4,
   "id": "f37a412b",
   "metadata": {},
   "outputs": [
    {
     "name": "stdout",
     "output_type": "stream",
     "text": [
      "The average of the following values (14, 45, 14, 85, 96, 32, 52, 58, 79, 45) is 52.0\n"
     ]
    }
   ],
   "source": [
    "def avg(*num):\n",
    "    average = sum(num)/len(num)\n",
    "    print(f'The average of the following values {num} is {average}')\n",
    "          \n",
    "avg(14,45,14,85,96,32,52,58,79,45)"
   ]
  },
  {
   "cell_type": "code",
   "execution_count": 9,
   "id": "d330df06",
   "metadata": {},
   "outputs": [
    {
     "name": "stdout",
     "output_type": "stream",
     "text": [
      "Name :: Adebisi Ojo\n",
      "Age :: 28\n",
      "Gender :: Male\n"
     ]
    }
   ],
   "source": [
    "def records(**details):\n",
    "    for key, values in details.items():\n",
    "        print(key, '::', values)\n",
    "records(Name = 'Adebisi Ojo',Age = 28,Gender = 'Male')"
   ]
  },
  {
   "cell_type": "code",
   "execution_count": 12,
   "id": "18d69183",
   "metadata": {},
   "outputs": [
    {
     "name": "stdout",
     "output_type": "stream",
     "text": [
      "Name :: ['Adebisi Ojo', 'Akpan Joy']\n",
      "Age :: [28, 45]\n",
      "Gender :: ['Male', 'Female']\n",
      "Position :: ['Chief Accountant', 'Human Resource']\n"
     ]
    }
   ],
   "source": [
    "records(Name = ['Adebisi Ojo', 'Akpan Joy'],Age = [28,45],Gender =['Male','Female'],Position =['Chief Accountant','Human Resource'])"
   ]
  },
  {
   "cell_type": "code",
   "execution_count": 13,
   "id": "cd52dc2a",
   "metadata": {},
   "outputs": [],
   "source": [
    "#LAMBDA FUNCTION"
   ]
  },
  {
   "cell_type": "code",
   "execution_count": 14,
   "id": "d1bde0af",
   "metadata": {},
   "outputs": [
    {
     "name": "stdout",
     "output_type": "stream",
     "text": [
      "Enter the value for num56\n"
     ]
    },
    {
     "data": {
      "text/plain": [
       "7.483314773547883"
      ]
     },
     "execution_count": 14,
     "metadata": {},
     "output_type": "execute_result"
    }
   ],
   "source": [
    "import math\n",
    "(lambda num:math.sqrt(num))(int(input('Enter the value for num')))"
   ]
  },
  {
   "cell_type": "code",
   "execution_count": 16,
   "id": "fedcc588",
   "metadata": {},
   "outputs": [
    {
     "name": "stdout",
     "output_type": "stream",
     "text": [
      "Enter Password:5\n"
     ]
    },
    {
     "data": {
      "text/plain": [
       "'5 ends with a digit 5 or 8'"
      ]
     },
     "execution_count": 16,
     "metadata": {},
     "output_type": "execute_result"
    }
   ],
   "source": [
    "(lambda password:f'{password} ends with a digit 5 or 8' if (password.endswith('5') or password.endswith('8')) else f'{password} does not ends with a digit 5 or 8')(input('Enter Password:'))"
   ]
  },
  {
   "cell_type": "code",
   "execution_count": null,
   "id": "d9b004f3",
   "metadata": {},
   "outputs": [],
   "source": []
  },
  {
   "cell_type": "code",
   "execution_count": null,
   "id": "caac380f",
   "metadata": {},
   "outputs": [],
   "source": []
  }
 ],
 "metadata": {
  "kernelspec": {
   "display_name": "Python 3 (ipykernel)",
   "language": "python",
   "name": "python3"
  },
  "language_info": {
   "codemirror_mode": {
    "name": "ipython",
    "version": 3
   },
   "file_extension": ".py",
   "mimetype": "text/x-python",
   "name": "python",
   "nbconvert_exporter": "python",
   "pygments_lexer": "ipython3",
   "version": "3.9.12"
  }
 },
 "nbformat": 4,
 "nbformat_minor": 5
}
